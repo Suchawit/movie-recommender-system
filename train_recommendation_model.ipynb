{
 "cells": [
  {
   "cell_type": "code",
   "execution_count": 1,
   "metadata": {},
   "outputs": [],
   "source": [
    "import numpy as np\n",
    "import pandas as pd\n",
    "from sklearn.model_selection import train_test_split\n",
    "from sklearn.preprocessing import LabelEncoder\n",
    "import os\n",
    "PATH = './'\n",
    "os.environ['CUDA_VISIBLE_DEVICES'] = \"-1\""
   ]
  },
  {
   "cell_type": "code",
   "execution_count": 2,
   "metadata": {},
   "outputs": [
    {
     "data": {
      "text/html": [
       "<div>\n",
       "<style scoped>\n",
       "    .dataframe tbody tr th:only-of-type {\n",
       "        vertical-align: middle;\n",
       "    }\n",
       "\n",
       "    .dataframe tbody tr th {\n",
       "        vertical-align: top;\n",
       "    }\n",
       "\n",
       "    .dataframe thead th {\n",
       "        text-align: right;\n",
       "    }\n",
       "</style>\n",
       "<table border=\"1\" class=\"dataframe\">\n",
       "  <thead>\n",
       "    <tr style=\"text-align: right;\">\n",
       "      <th></th>\n",
       "      <th>userId</th>\n",
       "      <th>movieId</th>\n",
       "      <th>rating</th>\n",
       "      <th>timestamp</th>\n",
       "    </tr>\n",
       "  </thead>\n",
       "  <tbody>\n",
       "    <tr>\n",
       "      <th>0</th>\n",
       "      <td>1.0</td>\n",
       "      <td>1.0</td>\n",
       "      <td>4.0</td>\n",
       "      <td>964982703</td>\n",
       "    </tr>\n",
       "    <tr>\n",
       "      <th>1</th>\n",
       "      <td>1.0</td>\n",
       "      <td>3.0</td>\n",
       "      <td>4.0</td>\n",
       "      <td>964981247</td>\n",
       "    </tr>\n",
       "    <tr>\n",
       "      <th>2</th>\n",
       "      <td>1.0</td>\n",
       "      <td>6.0</td>\n",
       "      <td>4.0</td>\n",
       "      <td>964982224</td>\n",
       "    </tr>\n",
       "    <tr>\n",
       "      <th>3</th>\n",
       "      <td>1.0</td>\n",
       "      <td>47.0</td>\n",
       "      <td>5.0</td>\n",
       "      <td>964983815</td>\n",
       "    </tr>\n",
       "    <tr>\n",
       "      <th>4</th>\n",
       "      <td>1.0</td>\n",
       "      <td>50.0</td>\n",
       "      <td>5.0</td>\n",
       "      <td>964982931</td>\n",
       "    </tr>\n",
       "    <tr>\n",
       "      <th>...</th>\n",
       "      <td>...</td>\n",
       "      <td>...</td>\n",
       "      <td>...</td>\n",
       "      <td>...</td>\n",
       "    </tr>\n",
       "    <tr>\n",
       "      <th>100831</th>\n",
       "      <td>610.0</td>\n",
       "      <td>166534.0</td>\n",
       "      <td>4.0</td>\n",
       "      <td>1493848402</td>\n",
       "    </tr>\n",
       "    <tr>\n",
       "      <th>100832</th>\n",
       "      <td>610.0</td>\n",
       "      <td>168248.0</td>\n",
       "      <td>5.0</td>\n",
       "      <td>1493850091</td>\n",
       "    </tr>\n",
       "    <tr>\n",
       "      <th>100833</th>\n",
       "      <td>610.0</td>\n",
       "      <td>168250.0</td>\n",
       "      <td>5.0</td>\n",
       "      <td>1494273047</td>\n",
       "    </tr>\n",
       "    <tr>\n",
       "      <th>100834</th>\n",
       "      <td>610.0</td>\n",
       "      <td>168252.0</td>\n",
       "      <td>5.0</td>\n",
       "      <td>1493846352</td>\n",
       "    </tr>\n",
       "    <tr>\n",
       "      <th>100835</th>\n",
       "      <td>610.0</td>\n",
       "      <td>170875.0</td>\n",
       "      <td>3.0</td>\n",
       "      <td>1493846415</td>\n",
       "    </tr>\n",
       "  </tbody>\n",
       "</table>\n",
       "<p>99032 rows × 4 columns</p>\n",
       "</div>"
      ],
      "text/plain": [
       "       userId   movieId  rating   timestamp\n",
       "0         1.0       1.0     4.0   964982703\n",
       "1         1.0       3.0     4.0   964981247\n",
       "2         1.0       6.0     4.0   964982224\n",
       "3         1.0      47.0     5.0   964983815\n",
       "4         1.0      50.0     5.0   964982931\n",
       "...       ...       ...     ...         ...\n",
       "100831  610.0  166534.0     4.0  1493848402\n",
       "100832  610.0  168248.0     5.0  1493850091\n",
       "100833  610.0  168250.0     5.0  1494273047\n",
       "100834  610.0  168252.0     5.0  1493846352\n",
       "100835  610.0  170875.0     3.0  1493846415\n",
       "\n",
       "[99032 rows x 4 columns]"
      ]
     },
     "execution_count": 2,
     "metadata": {},
     "output_type": "execute_result"
    }
   ],
   "source": [
    "# filter: drop 0 > rating > 5 data and data without user rated\n",
    "ratings = pd.read_csv(PATH + 'ratings.csv')\n",
    "ratings['userId'] = ratings['userId'].fillna('')\n",
    "ratings = ratings.drop(ratings[ratings.rating > 5].index)\n",
    "ratings = ratings.drop(ratings[ratings.rating < 0].index)\n",
    "ratings = ratings.drop(ratings[ratings.userId == ''].index)\n",
    "ratings"
   ]
  },
  {
   "cell_type": "code",
   "execution_count": 3,
   "metadata": {},
   "outputs": [
    {
     "data": {
      "text/html": [
       "<div>\n",
       "<style scoped>\n",
       "    .dataframe tbody tr th:only-of-type {\n",
       "        vertical-align: middle;\n",
       "    }\n",
       "\n",
       "    .dataframe tbody tr th {\n",
       "        vertical-align: top;\n",
       "    }\n",
       "\n",
       "    .dataframe thead th {\n",
       "        text-align: right;\n",
       "    }\n",
       "</style>\n",
       "<table border=\"1\" class=\"dataframe\">\n",
       "  <thead>\n",
       "    <tr style=\"text-align: right;\">\n",
       "      <th></th>\n",
       "      <th>movieId</th>\n",
       "      <th>title</th>\n",
       "      <th>genres</th>\n",
       "    </tr>\n",
       "  </thead>\n",
       "  <tbody>\n",
       "    <tr>\n",
       "      <th>0</th>\n",
       "      <td>1</td>\n",
       "      <td>Toy Story (1995)</td>\n",
       "      <td>Adventure|Animation|Children|Comedy|Fantasy</td>\n",
       "    </tr>\n",
       "    <tr>\n",
       "      <th>1</th>\n",
       "      <td>2</td>\n",
       "      <td>Jumanji (1995)</td>\n",
       "      <td>Adventure|Children|Fantasy</td>\n",
       "    </tr>\n",
       "    <tr>\n",
       "      <th>2</th>\n",
       "      <td>3</td>\n",
       "      <td>Grumpier Old Men (1995)</td>\n",
       "      <td>Comedy|Romance</td>\n",
       "    </tr>\n",
       "    <tr>\n",
       "      <th>3</th>\n",
       "      <td>4</td>\n",
       "      <td>Waiting to Exhale (1995)</td>\n",
       "      <td>Comedy|Drama|Romance</td>\n",
       "    </tr>\n",
       "    <tr>\n",
       "      <th>4</th>\n",
       "      <td>5</td>\n",
       "      <td>Father of the Bride Part II (1995)</td>\n",
       "      <td>Comedy</td>\n",
       "    </tr>\n",
       "  </tbody>\n",
       "</table>\n",
       "</div>"
      ],
      "text/plain": [
       "   movieId                               title  \\\n",
       "0        1                    Toy Story (1995)   \n",
       "1        2                      Jumanji (1995)   \n",
       "2        3             Grumpier Old Men (1995)   \n",
       "3        4            Waiting to Exhale (1995)   \n",
       "4        5  Father of the Bride Part II (1995)   \n",
       "\n",
       "                                        genres  \n",
       "0  Adventure|Animation|Children|Comedy|Fantasy  \n",
       "1                   Adventure|Children|Fantasy  \n",
       "2                               Comedy|Romance  \n",
       "3                         Comedy|Drama|Romance  \n",
       "4                                       Comedy  "
      ]
     },
     "execution_count": 3,
     "metadata": {},
     "output_type": "execute_result"
    }
   ],
   "source": [
    "movies = pd.read_csv(PATH + 'movies.csv')\n",
    "movies.head()"
   ]
  },
  {
   "cell_type": "code",
   "execution_count": 116,
   "metadata": {},
   "outputs": [
    {
     "data": {
      "text/plain": [
       "(590, 9696, 0.5, 5.0)"
      ]
     },
     "execution_count": 116,
     "metadata": {},
     "output_type": "execute_result"
    }
   ],
   "source": [
    "user_enc = LabelEncoder()\n",
    "ratings['user'] = user_enc.fit_transform(ratings['userId'].values)\n",
    "n_users = ratings['user'].nunique()\n",
    "item_enc = LabelEncoder()\n",
    "ratings['movie'] = item_enc.fit_transform(ratings['movieId'].values)\n",
    "n_movies = ratings['movie'].nunique()\n",
    "ratings['rating'] = ratings['rating'].values.astype(np.float32)\n",
    "min_rating = min(ratings['rating'])\n",
    "max_rating = max(ratings['rating'])\n",
    "n_users, n_movies, min_rating, max_rating"
   ]
  },
  {
   "cell_type": "code",
   "execution_count": 7,
   "metadata": {},
   "outputs": [
    {
     "data": {
      "text/plain": [
       "((94080, 2), (4952, 2), (94080,), (4952,))"
      ]
     },
     "execution_count": 7,
     "metadata": {},
     "output_type": "execute_result"
    }
   ],
   "source": [
    "# split training and testing: 0.95 and 0.05\n",
    "X = ratings[['user', 'movie']].values\n",
    "y = ratings['rating'].values\n",
    "X_train, X_test, y_train, y_test = train_test_split(X, y, test_size=0.05, random_state=69)\n",
    "X_train.shape, X_test.shape, y_train.shape, y_test.shape"
   ]
  },
  {
   "cell_type": "code",
   "execution_count": 8,
   "metadata": {},
   "outputs": [],
   "source": [
    "n_factors = 50\n",
    "X_train_array = [X_train[:, 0], X_train[:, 1]]\n",
    "X_test_array = [X_test[:, 0], X_test[:, 1]]"
   ]
  },
  {
   "cell_type": "markdown",
   "metadata": {},
   "source": [
    "# Collaborative Filtering model training"
   ]
  },
  {
   "cell_type": "code",
   "execution_count": null,
   "metadata": {},
   "outputs": [],
   "source": [
    "from tensorflow import keras \n",
    "\n",
    "from tensorflow.keras.models import Model\n",
    "from tensorflow.keras.layers import Input, Reshape, Dot\n",
    "from keras.layers.embeddings import Embedding\n",
    "from tensorflow.keras.optimizers import Adam\n",
    "from tensorflow.keras.regularizers import l2"
   ]
  },
  {
   "cell_type": "code",
   "execution_count": 10,
   "metadata": {},
   "outputs": [],
   "source": [
    "from keras.layers import Add, Activation, Lambda\n",
    "class EmbeddingLayer:\n",
    "    def __init__(self, n_items, n_factors):\n",
    "        self.n_items = n_items\n",
    "        self.n_factors = n_factors\n",
    "    \n",
    "    def __call__(self, x):\n",
    "        x = Embedding(self.n_items, self.n_factors, embeddings_initializer='he_normal',\n",
    "                      embeddings_regularizer=l2(1e-6))(x)\n",
    "        x = Reshape((self.n_factors,))(x)\n",
    "        return x"
   ]
  },
  {
   "cell_type": "code",
   "execution_count": 26,
   "metadata": {},
   "outputs": [],
   "source": [
    "from keras.layers import Concatenate, Dense, Dropout\n",
    "def RecommenderNet(n_users, n_movies, n_factors, min_rating, max_rating):\n",
    "    user = Input(shape=(1,))\n",
    "    u = EmbeddingLayer(n_users, n_factors)(user)\n",
    "    \n",
    "    movie = Input(shape=(1,))\n",
    "    m = EmbeddingLayer(n_movies, n_factors)(movie)\n",
    "    \n",
    "    x = Concatenate()([u, m])\n",
    "    x = Dropout(0.05)(x)\n",
    "    \n",
    "    x = Dense(10, kernel_initializer='he_normal')(x)\n",
    "    x = Activation('relu')(x)\n",
    "    x = Dropout(0.5)(x)\n",
    "    \n",
    "    x = Dense(1, kernel_initializer='he_normal')(x)\n",
    "    x = Activation('sigmoid')(x)\n",
    "    x = Lambda(lambda x: x * (max_rating - min_rating) + min_rating)(x)\n",
    "    model = Model(inputs=[user, movie], outputs=x)\n",
    "    opt = Adam(learning_rate=0.001)\n",
    "    model.compile(loss='mean_squared_error', optimizer=opt)\n",
    "    return model"
   ]
  },
  {
   "cell_type": "code",
   "execution_count": 27,
   "metadata": {},
   "outputs": [
    {
     "name": "stdout",
     "output_type": "stream",
     "text": [
      "Model: \"model_1\"\n",
      "__________________________________________________________________________________________________\n",
      " Layer (type)                   Output Shape         Param #     Connected to                     \n",
      "==================================================================================================\n",
      " input_3 (InputLayer)           [(None, 1)]          0           []                               \n",
      "                                                                                                  \n",
      " input_4 (InputLayer)           [(None, 1)]          0           []                               \n",
      "                                                                                                  \n",
      " embedding_2 (Embedding)        (None, 1, 50)        29500       ['input_3[0][0]']                \n",
      "                                                                                                  \n",
      " embedding_3 (Embedding)        (None, 1, 50)        484800      ['input_4[0][0]']                \n",
      "                                                                                                  \n",
      " reshape_2 (Reshape)            (None, 50)           0           ['embedding_2[0][0]']            \n",
      "                                                                                                  \n",
      " reshape_3 (Reshape)            (None, 50)           0           ['embedding_3[0][0]']            \n",
      "                                                                                                  \n",
      " concatenate_1 (Concatenate)    (None, 100)          0           ['reshape_2[0][0]',              \n",
      "                                                                  'reshape_3[0][0]']              \n",
      "                                                                                                  \n",
      " dropout_2 (Dropout)            (None, 100)          0           ['concatenate_1[0][0]']          \n",
      "                                                                                                  \n",
      " dense_2 (Dense)                (None, 10)           1010        ['dropout_2[0][0]']              \n",
      "                                                                                                  \n",
      " activation_2 (Activation)      (None, 10)           0           ['dense_2[0][0]']                \n",
      "                                                                                                  \n",
      " dropout_3 (Dropout)            (None, 10)           0           ['activation_2[0][0]']           \n",
      "                                                                                                  \n",
      " dense_3 (Dense)                (None, 1)            11          ['dropout_3[0][0]']              \n",
      "                                                                                                  \n",
      " activation_3 (Activation)      (None, 1)            0           ['dense_3[0][0]']                \n",
      "                                                                                                  \n",
      " lambda_1 (Lambda)              (None, 1)            0           ['activation_3[0][0]']           \n",
      "                                                                                                  \n",
      "==================================================================================================\n",
      "Total params: 515,321\n",
      "Trainable params: 515,321\n",
      "Non-trainable params: 0\n",
      "__________________________________________________________________________________________________\n"
     ]
    }
   ],
   "source": [
    "model = RecommenderNet(n_users, n_movies, n_factors, min_rating, max_rating)\n",
    "model.summary()"
   ]
  },
  {
   "cell_type": "code",
   "execution_count": 28,
   "metadata": {},
   "outputs": [
    {
     "name": "stdout",
     "output_type": "stream",
     "text": [
      "Epoch 1/10\n",
      "735/735 [==============================] - 2s 2ms/step - loss: 0.9673 - val_loss: 0.7666\n",
      "Epoch 2/10\n",
      "735/735 [==============================] - 2s 2ms/step - loss: 0.7716 - val_loss: 0.7512\n",
      "Epoch 3/10\n",
      "735/735 [==============================] - 2s 2ms/step - loss: 0.7259 - val_loss: 0.7466\n",
      "Epoch 4/10\n",
      "735/735 [==============================] - 2s 2ms/step - loss: 0.7060 - val_loss: 0.7530\n",
      "Epoch 5/10\n",
      "735/735 [==============================] - 2s 2ms/step - loss: 0.6946 - val_loss: 0.7542\n",
      "Epoch 6/10\n",
      "735/735 [==============================] - 2s 2ms/step - loss: 0.6821 - val_loss: 0.7553\n",
      "Epoch 7/10\n",
      "735/735 [==============================] - 2s 2ms/step - loss: 0.6786 - val_loss: 0.7601\n",
      "Epoch 8/10\n",
      "735/735 [==============================] - 2s 2ms/step - loss: 0.6766 - val_loss: 0.7554\n",
      "Epoch 9/10\n",
      "735/735 [==============================] - 2s 2ms/step - loss: 0.6671 - val_loss: 0.7578\n",
      "Epoch 10/10\n",
      "735/735 [==============================] - 2s 2ms/step - loss: 0.6680 - val_loss: 0.7606\n"
     ]
    }
   ],
   "source": [
    "history = model.fit(x=X_train_array, y=y_train, batch_size=128, epochs=10,\n",
    "                    verbose=1, validation_data=(X_test_array, y_test))"
   ]
  },
  {
   "cell_type": "code",
   "execution_count": 29,
   "metadata": {},
   "outputs": [
    {
     "name": "stdout",
     "output_type": "stream",
     "text": [
      "INFO:tensorflow:Assets written to: ./model/assets\n"
     ]
    }
   ],
   "source": [
    "# deployment as \n",
    "import tensorflow\n",
    "tensorflow.saved_model.save(model, \"./model/\")"
   ]
  },
  {
   "cell_type": "code",
   "execution_count": 43,
   "metadata": {},
   "outputs": [],
   "source": []
  },
  {
   "cell_type": "code",
   "execution_count": 109,
   "metadata": {},
   "outputs": [],
   "source": [
    "user_id = 100\n",
    "ct_based_movie_recommendation = run_content_based_recommendation(user_id)"
   ]
  },
  {
   "cell_type": "code",
   "execution_count": 113,
   "metadata": {
    "scrolled": true,
    "tags": []
   },
   "outputs": [
    {
     "data": {
      "text/plain": [
       "[1030,\n",
       " 7,\n",
       " 6666,\n",
       " 36363,\n",
       " 11,\n",
       " 76301,\n",
       " 522,\n",
       " 1551,\n",
       " 2065,\n",
       " 18,\n",
       " 19,\n",
       " 119828,\n",
       " 42004,\n",
       " 23,\n",
       " 26,\n",
       " 2586,\n",
       " 2076,\n",
       " 30,\n",
       " 31,\n",
       " 36,\n",
       " 74789,\n",
       " 3108,\n",
       " 39,\n",
       " 32296,\n",
       " 553,\n",
       " 3114,\n",
       " 43,\n",
       " 40,\n",
       " 1586,\n",
       " 2099,\n",
       " 52,\n",
       " 1076,\n",
       " 1079,\n",
       " 55,\n",
       " 58,\n",
       " 4157,\n",
       " 2110,\n",
       " 64,\n",
       " 65,\n",
       " 577,\n",
       " 68,\n",
       " 69,\n",
       " 150596,\n",
       " 75,\n",
       " 588,\n",
       " 82,\n",
       " 142420,\n",
       " 2133,\n",
       " 88,\n",
       " 1625,\n",
       " 2137,\n",
       " 1627,\n",
       " 94,\n",
       " 96,\n",
       " 97,\n",
       " 2150,\n",
       " 1127,\n",
       " 616,\n",
       " 1129,\n",
       " 106,\n",
       " 1126,\n",
       " 2662,\n",
       " 1645,\n",
       " 2160,\n",
       " 117,\n",
       " 118,\n",
       " 1655,\n",
       " 78467,\n",
       " 1667,\n",
       " 4243,\n",
       " 26776,\n",
       " 1689,\n",
       " 156,\n",
       " 101025,\n",
       " 165,\n",
       " 133802,\n",
       " 3754,\n",
       " 1196,\n",
       " 5291,\n",
       " 1711,\n",
       " 694,\n",
       " 695,\n",
       " 50872,\n",
       " 185,\n",
       " 1210,\n",
       " 195,\n",
       " 2253,\n",
       " 110297,\n",
       " 2265,\n",
       " 3807,\n",
       " 4321,\n",
       " 54001,\n",
       " 2294,\n",
       " 247,\n",
       " 762,\n",
       " 1278,\n",
       " 257,\n",
       " 260,\n",
       " 8454,\n",
       " 780,\n",
       " 2321,\n",
       " 3358,\n",
       " 288,\n",
       " 3873,\n",
       " 89898,\n",
       " 810,\n",
       " 303,\n",
       " 2872,\n",
       " 313,\n",
       " 1337,\n",
       " 43836,\n",
       " 316,\n",
       " 5952,\n",
       " 102720,\n",
       " 837,\n",
       " 1356,\n",
       " 335,\n",
       " 5456,\n",
       " 849,\n",
       " 1889,\n",
       " 867,\n",
       " 66915,\n",
       " 355,\n",
       " 1382,\n",
       " 875,\n",
       " 33138,\n",
       " 888,\n",
       " 384,\n",
       " 4993,\n",
       " 33669,\n",
       " 390,\n",
       " 904,\n",
       " 910,\n",
       " 96655,\n",
       " 107406,\n",
       " 5522,\n",
       " 410,\n",
       " 421,\n",
       " 2470,\n",
       " 4523,\n",
       " 2478,\n",
       " 1459,\n",
       " 950,\n",
       " 952,\n",
       " 1465,\n",
       " 442,\n",
       " 2488,\n",
       " 965,\n",
       " 455,\n",
       " 138702,\n",
       " 479,\n",
       " 55269,\n",
       " 60904,\n",
       " 493,\n",
       " 2542,\n",
       " 176621,\n",
       " 98809,\n",
       " 46578,\n",
       " 5618,\n",
       " 1015,\n",
       " 106489,\n",
       " 2044]"
      ]
     },
     "execution_count": 113,
     "metadata": {},
     "output_type": "execute_result"
    }
   ],
   "source": [
    "ct_based_movie_recommendation"
   ]
  },
  {
   "cell_type": "code",
   "execution_count": 111,
   "metadata": {},
   "outputs": [],
   "source": [
    "x = [user_id for _ in range(len(ct_based_movie_recommendation))]\n",
    "x2 = [movie_id for movie_id in ct_based_movie_recommendation]"
   ]
  },
  {
   "cell_type": "code",
   "execution_count": 21,
   "metadata": {},
   "outputs": [],
   "source": [
    "model_input = [np.array(x), np.array(x2)]"
   ]
  },
  {
   "cell_type": "code",
   "execution_count": 25,
   "metadata": {},
   "outputs": [
    {
     "data": {
      "text/plain": [
       "107"
      ]
     },
     "execution_count": 25,
     "metadata": {},
     "output_type": "execute_result"
    }
   ],
   "source": [
    "len(model_input[0])"
   ]
  },
  {
   "cell_type": "code",
   "execution_count": 30,
   "metadata": {},
   "outputs": [
    {
     "data": {
      "text/plain": [
       "([<KerasTensor: shape=(None, 1) dtype=float32 (created by layer 'input_3')>,\n",
       "  <KerasTensor: shape=(None, 1) dtype=float32 (created by layer 'input_4')>],\n",
       " <KerasTensor: shape=(None, 1) dtype=float32 (created by layer 'lambda_1')>)"
      ]
     },
     "execution_count": 30,
     "metadata": {},
     "output_type": "execute_result"
    }
   ],
   "source": [
    "model.input, model.output"
   ]
  },
  {
   "cell_type": "code",
   "execution_count": 32,
   "metadata": {},
   "outputs": [
    {
     "data": {
      "text/plain": [
       "array([4.616461], dtype=float32)"
      ]
     },
     "execution_count": 32,
     "metadata": {},
     "output_type": "execute_result"
    }
   ],
   "source": [
    "if len(arr) > 3:\n",
    "    arr[-3:]"
   ]
  },
  {
   "cell_type": "code",
   "execution_count": 56,
   "metadata": {},
   "outputs": [],
   "source": [
    "x = [0,0,0]"
   ]
  },
  {
   "cell_type": "code",
   "execution_count": 59,
   "metadata": {},
   "outputs": [
    {
     "data": {
      "text/plain": [
       "[0, 0, 0]"
      ]
     },
     "execution_count": 59,
     "metadata": {},
     "output_type": "execute_result"
    }
   ],
   "source": [
    "x[-4:]"
   ]
  },
  {
   "cell_type": "code",
   "execution_count": null,
   "metadata": {},
   "outputs": [],
   "source": []
  }
 ],
 "metadata": {
  "kernelspec": {
   "display_name": "crnn",
   "language": "python",
   "name": "myenv"
  },
  "language_info": {
   "codemirror_mode": {
    "name": "ipython",
    "version": 3
   },
   "file_extension": ".py",
   "mimetype": "text/x-python",
   "name": "python",
   "nbconvert_exporter": "python",
   "pygments_lexer": "ipython3",
   "version": "3.7.12"
  }
 },
 "nbformat": 4,
 "nbformat_minor": 4
}
